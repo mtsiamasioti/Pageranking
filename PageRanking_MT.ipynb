{
 "cells": [
  {
   "cell_type": "code",
   "execution_count": 1,
   "id": "81bef0eb",
   "metadata": {
    "ExecuteTime": {
     "end_time": "2022-03-20T12:25:33.415166Z",
     "start_time": "2022-03-20T12:25:33.386175Z"
    }
   },
   "outputs": [
    {
     "name": "stderr",
     "output_type": "stream",
     "text": [
      "C:\\Users\\mtsia\\AppData\\Local\\Temp\\ipykernel_17376\\896178439.py:1: DeprecationWarning: Importing display from IPython.core.display is deprecated since IPython 7.14, please import from IPython display\n",
      "  from IPython.core.display import display, HTML\n"
     ]
    },
    {
     "data": {
      "text/html": [
       "<style>.container { width:95% !important; }</style>"
      ],
      "text/plain": [
       "<IPython.core.display.HTML object>"
      ]
     },
     "metadata": {},
     "output_type": "display_data"
    }
   ],
   "source": [
    "from IPython.core.display import display, HTML\n",
    "display(HTML(\"<style>.container { width:95% !important; }</style>\"))"
   ]
  },
  {
   "cell_type": "code",
   "execution_count": 2,
   "id": "e3a7d22b",
   "metadata": {
    "ExecuteTime": {
     "end_time": "2022-03-20T12:25:34.250818Z",
     "start_time": "2022-03-20T12:25:33.418166Z"
    }
   },
   "outputs": [],
   "source": [
    "import numpy as np\n",
    "import pandas as pd\n",
    "import random\n",
    "import scipy\n",
    "from scipy import sparse\n",
    "import scipy.sparse.linalg as linalg\n",
    "from scipy.sparse import identity"
   ]
  },
  {
   "cell_type": "code",
   "execution_count": 3,
   "id": "e63dc522",
   "metadata": {
    "ExecuteTime": {
     "end_time": "2022-03-20T12:25:57.775573Z",
     "start_time": "2022-03-20T12:25:34.252818Z"
    }
   },
   "outputs": [
    {
     "data": {
      "text/plain": [
       "(array([[ 9, 12],\n",
       "        [ 9, 13],\n",
       "        [ 9, 14],\n",
       "        [ 9, 15],\n",
       "        [ 9, 16],\n",
       "        [ 9, 17],\n",
       "        [ 9, 18],\n",
       "        [ 9, 19],\n",
       "        [ 9, 20],\n",
       "        [ 9, 21]]),\n",
       " (7600595, 2))"
      ]
     },
     "execution_count": 3,
     "metadata": {},
     "output_type": "execute_result"
    }
   ],
   "source": [
    "#this is a compressed sparse matrix representation \n",
    "edges = np.loadtxt(\"out.web-BerkStan\", dtype=int, skiprows=2)\n",
    "edges[10:20], edges.shape"
   ]
  },
  {
   "cell_type": "code",
   "execution_count": 4,
   "id": "f1efcac8",
   "metadata": {
    "ExecuteTime": {
     "end_time": "2022-03-20T12:25:57.806982Z",
     "start_time": "2022-03-20T12:25:57.779573Z"
    }
   },
   "outputs": [],
   "source": [
    "def create_matrix(matrix):\n",
    "    \n",
    "    A, index, inverse_index = np.unique(matrix, return_index = True, return_inverse = True)\n",
    "    rows, columns = inverse_index.reshape(matrix.shape).T\n",
    "    B = sparse.csr_matrix((np.ones(rows.shape,int), (rows,columns))) \n",
    "    \n",
    "    #The sparse matrix B only indicates which nodes are connected(using 1's). We need to convert these into transitional probabilities.\n",
    "    #firstly, get sum of every row\n",
    "    sum_of_rows = np.asarray(B.sum(axis=1)).reshape(-1)\n",
    "    #keep only non-zero sums\n",
    "    nonzero = sum_of_rows.nonzero()[0]\n",
    "    \n",
    "    #Dangling Nodes (nodes with no outlinks): all rows containing 0 must be replaced\n",
    "    #We create a vector a where a_i = 1 if the i-th row of corresponds to a dangling node, and 0 otherwise\n",
    "    a = np.asarray([1 if sum_of_rows[i] == 0 else 0 for i in range(len(sum_of_rows))])\n",
    "    \n",
    "    # we store the value for each row in its diagonal spot to avoid creating a dense matrix\n",
    "    probability_matrix = sparse.csr_matrix((1 / sum_of_rows[nonzero], (nonzero, nonzero)), shape=(B.shape[0], B.shape[0]))\n",
    "    P = probability_matrix @ B\n",
    "    \n",
    "    return P, a"
   ]
  },
  {
   "cell_type": "code",
   "execution_count": 5,
   "id": "46075f85",
   "metadata": {
    "ExecuteTime": {
     "end_time": "2022-03-20T12:26:00.311545Z",
     "start_time": "2022-03-20T12:25:57.810986Z"
    }
   },
   "outputs": [],
   "source": [
    "P, a = create_matrix(edges)"
   ]
  },
  {
   "cell_type": "code",
   "execution_count": 6,
   "id": "a59e1d68",
   "metadata": {
    "ExecuteTime": {
     "end_time": "2022-03-20T12:26:00.326563Z",
     "start_time": "2022-03-20T12:26:00.314549Z"
    }
   },
   "outputs": [
    {
     "data": {
      "text/plain": [
       "((685230,), (685230, 685230), (685230,), (685230,))"
      ]
     },
     "execution_count": 6,
     "metadata": {},
     "output_type": "execute_result"
    }
   ],
   "source": [
    "P.shape\n",
    "x_old = np.zeros(P.shape[0])\n",
    "v = np.ones(P.shape[0]) / P.shape[0]\n",
    "x_old.shape, P.shape, v.shape, a.shape"
   ]
  },
  {
   "cell_type": "markdown",
   "id": "9b5bc8f8",
   "metadata": {},
   "source": [
    "## (1)"
   ]
  },
  {
   "cell_type": "markdown",
   "id": "63db5b51",
   "metadata": {},
   "source": [
    "### Power Method "
   ]
  },
  {
   "cell_type": "code",
   "execution_count": 7,
   "id": "39195d1d",
   "metadata": {
    "ExecuteTime": {
     "end_time": "2022-03-20T12:26:00.342554Z",
     "start_time": "2022-03-20T12:26:00.330543Z"
    }
   },
   "outputs": [],
   "source": [
    "def power_method(probability_matrix, a, alpha, tol=1e-08, converge=False): \n",
    "    \n",
    "    \n",
    "    v = np.ones(probability_matrix.shape[0]) / probability_matrix.shape[0]\n",
    "    \n",
    "    #initial vector: equal probability of going to all nodes\n",
    "    x_old = np.ones(probability_matrix.shape[0])\n",
    "    x_new = (np.ones(probability_matrix.shape[0]) / probability_matrix.shape[0])\n",
    "    differences = []\n",
    "    \n",
    "    iterations = 0\n",
    "    while True:\n",
    "        x_old = x_new \n",
    "        x_new = alpha * (probability_matrix @ x_old) + v.dot(a @ x_old) + (1-alpha)*v\n",
    "        differences.append((abs(np.subtract(x_new, x_old))))\n",
    "        iterations += 1\n",
    "        \n",
    "        if scipy.linalg.norm(x_new - x_old) < tol:\n",
    "            break\n",
    "         \n",
    "    if converge == True:\n",
    "        print(f'Number of Iterations: {iterations}')\n",
    "        return x_new, np.array(differences)\n",
    "    \n",
    "    else:\n",
    "        print(f'Number of Iterations: {iterations}')\n",
    "        return x_new"
   ]
  },
  {
   "cell_type": "code",
   "execution_count": 8,
   "id": "dc356698",
   "metadata": {
    "ExecuteTime": {
     "end_time": "2022-03-20T12:26:01.669028Z",
     "start_time": "2022-03-20T12:26:00.345539Z"
    }
   },
   "outputs": [
    {
     "name": "stdout",
     "output_type": "stream",
     "text": [
      "Number of Iterations: 37\n",
      "CPU times: total: 1.36 s\n",
      "Wall time: 1.3 s\n"
     ]
    },
    {
     "data": {
      "text/plain": [
       "((685230,),\n",
       " array([1.44929960e-06, 1.44902453e-06, 1.44897607e-06, 1.45267094e-06,\n",
       "        1.44588451e-06, 1.44901529e-06, 1.45080008e-06, 1.45146103e-06,\n",
       "        1.43963615e-06, 1.42398979e-06]))"
      ]
     },
     "execution_count": 8,
     "metadata": {},
     "output_type": "execute_result"
    }
   ],
   "source": [
    "%%time\n",
    "power = power_method(P,a, 0.85, converge=False)\n",
    "power.shape, power[:10]"
   ]
  },
  {
   "cell_type": "markdown",
   "id": "23e4a350",
   "metadata": {},
   "source": [
    "### Linear Method "
   ]
  },
  {
   "cell_type": "code",
   "execution_count": 9,
   "id": "0f684c4f",
   "metadata": {
    "ExecuteTime": {
     "end_time": "2022-03-20T12:26:01.684666Z",
     "start_time": "2022-03-20T12:26:01.672028Z"
    }
   },
   "outputs": [],
   "source": [
    "def linear_system(probability_matrix, a, alpha):\n",
    "    \n",
    "    v = np.ones(probability_matrix.shape[0]) / probability_matrix.shape[0]\n",
    "    v1 = v[a==0] #positions of nondangling nodes\n",
    "    P1 = probability_matrix[:, (a==0)][(a==0), :]\n",
    "    ident = sparse.eye(P.shape[0], format='csr')[:, (a==0)][(a==0), :]\n",
    "    v2 = v[a==1] #positions of dangling nodes\n",
    "    P2 = probability_matrix[:, (a==1)][(a==0), :] #rows nondangling, columns dangling\n",
    "    \n",
    "    A = scipy.sparse.csc_matrix(ident - alpha * P1)\n",
    "    b = scipy.sparse.csc_matrix(v1).T\n",
    "    pi_1 = linalg.spsolve(A, b) #nondangling nodes\n",
    "    c = scipy.sparse.csc_matrix(pi_1)\n",
    "    pi_2 = alpha * (c @ P2) + v2 #dangling nodes\n",
    "    p = sparse.hstack([pi_1, pi_2]).toarray()\n",
    "    \n",
    "    return (p / np.linalg.norm(p, 1)).T.reshape(-1)"
   ]
  },
  {
   "cell_type": "code",
   "execution_count": 10,
   "id": "4db13af0",
   "metadata": {
    "ExecuteTime": {
     "end_time": "2022-03-20T12:28:03.048007Z",
     "start_time": "2022-03-20T12:26:01.688667Z"
    }
   },
   "outputs": [
    {
     "name": "stdout",
     "output_type": "stream",
     "text": [
      "CPU times: total: 2min 43s\n",
      "Wall time: 2min 1s\n"
     ]
    },
    {
     "data": {
      "text/plain": [
       "array([0.0279987 , 0.02799243, 0.02799132, 0.02807545, 0.02792096,\n",
       "       0.02799221, 0.02803285, 0.02804789, 0.02777872, 0.02742207])"
      ]
     },
     "execution_count": 10,
     "metadata": {},
     "output_type": "execute_result"
    }
   ],
   "source": [
    "%%time\n",
    "linear = linear_system(P,a, 0.85)\n",
    "linear[:10]"
   ]
  },
  {
   "cell_type": "code",
   "execution_count": 11,
   "id": "1bca8887",
   "metadata": {
    "ExecuteTime": {
     "end_time": "2022-03-20T12:28:03.173198Z",
     "start_time": "2022-03-20T12:28:03.051010Z"
    }
   },
   "outputs": [
    {
     "data": {
      "text/plain": [
       "(array([139321, 437047, 437074, 582062, 142166, 142220, 142221, 142222,\n",
       "        142223, 584999, 425992, 590213, 126309, 584955, 584982, 121020,\n",
       "        460203, 584909, 584973, 585006, 200498, 200501, 585018, 584940,\n",
       "        585014, 584930, 584931, 585015, 183771, 183709, 585017, 584939,\n",
       "        183773, 584996, 584938, 584933, 183779, 584934, 584997, 584927,\n",
       "        584935, 585020, 584937, 585024, 584924, 584926, 183733, 584915,\n",
       "        183753, 183752, 584910, 183746, 183744, 183731, 584918, 183728,\n",
       "        183726, 183671, 183693, 183700, 183706, 585042, 584919, 585026,\n",
       "        584923, 584925, 183760, 585012, 585027, 575912, 585028, 183642,\n",
       "        585039, 585032, 183644, 585035, 585036, 584920, 585038, 585013,\n",
       "        584971, 585011, 584960, 584946, 584985, 584984, 584948, 584949,\n",
       "        584950, 584951, 584983, 585010, 584956, 584961, 584945, 584962,\n",
       "        584963, 584965, 584966, 584977], dtype=int64),\n",
       " array([682507, 684215, 682054, 685207, 680980, 684573, 680536, 680529,\n",
       "        683839, 683781, 683917, 680495, 682495, 680951, 683467, 683432,\n",
       "        680636, 680968, 681051, 680946, 684807, 682302, 681472, 684574,\n",
       "        683400, 684027, 684448, 680622, 681611, 684580, 682074, 682073,\n",
       "        684655, 681660, 682600, 681734, 680489, 683850, 683905, 684285,\n",
       "        682458, 680492, 683981, 681733, 683866, 434583, 110999, 111111,\n",
       "        111106, 111107, 111108, 111109, 111110, 111117, 111112, 111113,\n",
       "        111114, 111115, 111116, 111104, 111118, 111105, 111098, 111103,\n",
       "        111092, 111120, 111086, 111087, 111088, 111089, 111090, 111091,\n",
       "        111093, 111102, 111094, 111095, 111096, 111097, 111099, 111100,\n",
       "        111101, 111119, 111142, 111121, 111122, 111084, 111143, 111144,\n",
       "        111145, 111146, 111147, 111148, 111149, 111150, 111151, 111152,\n",
       "        111153, 111154, 111155, 111156], dtype=int64))"
      ]
     },
     "execution_count": 11,
     "metadata": {},
     "output_type": "execute_result"
    }
   ],
   "source": [
    "ordered_power = np.argsort(power)\n",
    "ordered_linear = np.argsort(linear)\n",
    "ordered_power[::-1][:100], ordered_linear[::-1][:100]"
   ]
  },
  {
   "cell_type": "markdown",
   "id": "d5a9a398",
   "metadata": {},
   "source": [
    "The two methods give different pagerank vectors, as the power method only takes into account the absolute largest eigenvalue of the matrix P. The power method is faster, as it only takes 1.63 s whereas the linear system method takes 2min and 10s."
   ]
  },
  {
   "cell_type": "markdown",
   "id": "15b66830",
   "metadata": {},
   "source": [
    "## (2)"
   ]
  },
  {
   "cell_type": "code",
   "execution_count": 12,
   "id": "348eb70f",
   "metadata": {
    "ExecuteTime": {
     "end_time": "2022-03-20T12:28:16.005612Z",
     "start_time": "2022-03-20T12:28:03.177202Z"
    }
   },
   "outputs": [
    {
     "name": "stdout",
     "output_type": "stream",
     "text": [
      "Number of Iterations: 357\n",
      "CPU times: total: 14.3 s\n",
      "Wall time: 12.8 s\n"
     ]
    }
   ],
   "source": [
    "%%time\n",
    "power = power_method(P, a, 0.99)"
   ]
  },
  {
   "cell_type": "code",
   "execution_count": 13,
   "id": "cc14beb0",
   "metadata": {
    "ExecuteTime": {
     "end_time": "2022-03-20T12:30:29.046900Z",
     "start_time": "2022-03-20T12:28:16.006635Z"
    }
   },
   "outputs": [
    {
     "name": "stdout",
     "output_type": "stream",
     "text": [
      "CPU times: total: 2min 56s\n",
      "Wall time: 2min 13s\n"
     ]
    }
   ],
   "source": [
    "%%time\n",
    "linear = linear_system(P,a, 0.99)"
   ]
  },
  {
   "cell_type": "code",
   "execution_count": 14,
   "id": "b022ebb8",
   "metadata": {
    "ExecuteTime": {
     "end_time": "2022-03-20T12:30:29.140897Z",
     "start_time": "2022-03-20T12:30:29.049899Z"
    }
   },
   "outputs": [
    {
     "data": {
      "text/plain": [
       "(array([122712, 123357, 120369, 122710, 123355, 120371, 122951, 122778,\n",
       "        122761, 122807, 122912, 120448, 122958, 122895, 120549, 120541,\n",
       "        122863, 122773, 122759, 120500, 122871, 122781, 120524, 122846,\n",
       "        122789, 122837, 122834, 122822, 122760, 122917, 122707, 122749,\n",
       "        122742, 122743, 120590, 120415, 120368, 120330, 122740, 120414,\n",
       "        122952, 122655, 120573, 122953, 122709, 122840, 120485, 120484,\n",
       "        120433, 123505, 122833, 122832, 122820, 125127, 120595, 120533,\n",
       "        122945, 122870, 122944, 120434, 120534, 123543, 123498, 122894,\n",
       "        122899, 123486, 122928, 123528, 122808, 120365, 122708, 122788,\n",
       "        122779, 122793, 122785, 122750, 122747, 122769, 122925, 122923,\n",
       "        120547, 122869, 122874, 122922, 122755, 122756, 122775, 120499,\n",
       "        120501, 122864, 122926, 120574, 122865, 122754, 122782, 122948,\n",
       "        120532, 122927, 120578, 122753], dtype=int64),\n",
       " array([682054, 684215, 685207, 682507, 680536, 680980, 683467, 680951,\n",
       "        684573, 680968, 681051, 680636, 684807, 684027, 682495, 681472,\n",
       "        680495, 110999, 111145, 111134, 111135, 111136, 111137, 111138,\n",
       "        111139, 111140, 111141, 111142, 111143, 111144, 111147, 111146,\n",
       "        111148, 111149, 111150, 111151, 111152, 111153, 111132, 111154,\n",
       "        111155, 111156, 111157, 111133, 111123, 111131, 111130, 111105,\n",
       "        111106, 111107, 111108, 111109, 111110, 111111, 111112, 111113,\n",
       "        111114, 111115, 111116, 111117, 111118, 111119, 111120, 111121,\n",
       "        111122, 111159, 111124, 111125, 111126, 111127, 111128, 111129,\n",
       "        111158, 111167, 111160, 111161, 111204, 111205, 111206, 111207,\n",
       "        111208, 111209, 111210, 111211, 111212, 111213, 111214, 111215,\n",
       "        111216, 111217, 111218, 111219, 111220, 111221, 111222, 111223,\n",
       "        111224, 111225, 111226, 111227], dtype=int64))"
      ]
     },
     "execution_count": 14,
     "metadata": {},
     "output_type": "execute_result"
    }
   ],
   "source": [
    "ordered_power_2 = np.argsort(power)\n",
    "ordered_linear_2 = np.argsort(linear)\n",
    "ordered_power_2[::-1][:100], ordered_linear_2[::-1][:100]"
   ]
  },
  {
   "cell_type": "markdown",
   "id": "02374623",
   "metadata": {},
   "source": [
    "We now give our algorithm bigger tolerance in ordering the nodes. The power method vector has significantly changed, whereas the linear system vector is more stable."
   ]
  },
  {
   "cell_type": "markdown",
   "id": "14a544f0",
   "metadata": {},
   "source": [
    "## (3) "
   ]
  },
  {
   "cell_type": "code",
   "execution_count": 15,
   "id": "ad1612d6",
   "metadata": {
    "ExecuteTime": {
     "end_time": "2022-03-20T12:30:30.527695Z",
     "start_time": "2022-03-20T12:30:29.142896Z"
    }
   },
   "outputs": [
    {
     "name": "stdout",
     "output_type": "stream",
     "text": [
      "Number of Iterations: 37\n",
      "CPU times: total: 1.56 s\n",
      "Wall time: 1.37 s\n"
     ]
    }
   ],
   "source": [
    "%%time\n",
    "power, differences = power_method(P,a, 0.85, converge=True)"
   ]
  },
  {
   "cell_type": "code",
   "execution_count": 16,
   "id": "8e6e2396",
   "metadata": {
    "ExecuteTime": {
     "end_time": "2022-03-20T12:30:30.620671Z",
     "start_time": "2022-03-20T12:30:30.529696Z"
    }
   },
   "outputs": [
    {
     "data": {
      "text/plain": [
       "23         2\n",
       "24         2\n",
       "25         4\n",
       "26         6\n",
       "27        61\n",
       "29       662\n",
       "28       845\n",
       "30      1138\n",
       "31      1922\n",
       "32      4239\n",
       "34      7745\n",
       "33     12445\n",
       "35     13549\n",
       "36    642610\n",
       "dtype: int64"
      ]
     },
     "execution_count": 16,
     "metadata": {},
     "output_type": "execute_result"
    }
   ],
   "source": [
    "iterations_needed = np.where(differences >= 1e-08, 0, 1).sum(axis = 0)\n",
    "pd.Series(iterations_needed).value_counts().sort_values()"
   ]
  },
  {
   "cell_type": "code",
   "execution_count": 17,
   "id": "fbb20be8",
   "metadata": {
    "ExecuteTime": {
     "end_time": "2022-03-20T12:30:30.730638Z",
     "start_time": "2022-03-20T12:30:30.621667Z"
    }
   },
   "outputs": [
    {
     "name": "stdout",
     "output_type": "stream",
     "text": [
      "These are the 50 nodes that converge the fastest: [118745 135259 118766 434971 434909 434981 600537 436691 434970 600535\n",
      " 434986 118764 434972 436690 466357 600626 466342 600628 496840 600629\n",
      "  55812 600627 403219 453973 453972 606611 466290 451690 466298 518640\n",
      " 466299 466349 496841 518641 466348 466303 466304 466305 466347 466289\n",
      " 466345 199663 466288 403225 466286 466350 453919 453920 453921 453922]\n",
      "Distance of the 500 probabilities of the fastest nodes from the maximum pagerank probability(of the strongest node): 0.00000945746977215995\n",
      "Distance of the 500 probabilities of the fastest nodes from the minimum pagerank probability(of the weakest node): 0.00001939718957613864\n"
     ]
    }
   ],
   "source": [
    "print(f'These are the 50 nodes that converge the fastest: {np.argsort(iterations_needed)[:50]}')\n",
    "print(f'Distance of the 500 probabilities of the fastest nodes from the maximum pagerank probability(of the strongest node): {(np.linalg.norm(power[np.argsort(iterations_needed)[:500]] - max(power),2)):.20f}')\n",
    "print(f'Distance of the 500 probabilities of the fastest nodes from the minimum pagerank probability(of the weakest node): {(np.linalg.norm(power[np.argsort(iterations_needed)[:500]] - min(power),2)):.20f}')"
   ]
  },
  {
   "cell_type": "markdown",
   "id": "ae1aa141",
   "metadata": {},
   "source": [
    "Most of these nodes seem to have small probabilities (they are very close to the smallest probability in the pagerank vector), so we assume that the weakest nodes are the ones that converge the fastest."
   ]
  },
  {
   "cell_type": "markdown",
   "id": "8ddbd6b5",
   "metadata": {},
   "source": [
    "## (4)"
   ]
  },
  {
   "cell_type": "code",
   "execution_count": 18,
   "id": "99cd6e03",
   "metadata": {
    "ExecuteTime": {
     "end_time": "2022-03-20T12:30:30.794664Z",
     "start_time": "2022-03-20T12:30:30.733619Z"
    }
   },
   "outputs": [
    {
     "data": {
      "text/plain": [
       "array([1.46953795e-06, 1.46953795e-06, 1.46953795e-06, 1.46953795e-06,\n",
       "       1.46953795e-06, 1.46953795e-06, 1.46953795e-06, 1.46953795e-06,\n",
       "       1.46953795e-06, 1.46953795e-06])"
      ]
     },
     "execution_count": 18,
     "metadata": {},
     "output_type": "execute_result"
    }
   ],
   "source": [
    "power[np.argsort(power)[::-1][:10]] #Max to min probbility"
   ]
  },
  {
   "cell_type": "code",
   "execution_count": 19,
   "id": "23fa9236",
   "metadata": {
    "ExecuteTime": {
     "end_time": "2022-03-20T12:30:38.780794Z",
     "start_time": "2022-03-20T12:30:30.797654Z"
    }
   },
   "outputs": [
    {
     "name": "stdout",
     "output_type": "stream",
     "text": [
      "The new node is 685231\n"
     ]
    }
   ],
   "source": [
    "#Add extra node outlinks 10 most important ones and inlinks 500 below average ones\n",
    "print(f'The new node is {edges.max() + 1}')\n",
    "np.random.seed(123)\n",
    "\n",
    "outlinks = [] #add information for outlinks\n",
    "for i in range(0,10):\n",
    "    outlinks.append((edges.max() + 1, np.argsort(power)[::-1][i]))\n",
    "\n",
    "inlinks = [] #add information for inlinks\n",
    "weakest = np.array_split(np.argsort(power)[::-1] ,2)[1]\n",
    "weakest_500 = np.random.choice(weakest, 500, replace=False)\n",
    "for i in range(0,500):\n",
    "    inlinks.append((weakest_500[i] ,edges.max() + 1))\n",
    "\n",
    "new_edges = np.vstack([edges, outlinks, inlinks])"
   ]
  },
  {
   "cell_type": "code",
   "execution_count": 20,
   "id": "7b618557",
   "metadata": {
    "ExecuteTime": {
     "end_time": "2022-03-20T12:30:42.688277Z",
     "start_time": "2022-03-20T12:30:38.784748Z"
    }
   },
   "outputs": [
    {
     "name": "stdout",
     "output_type": "stream",
     "text": [
      "Number of Iterations: 37\n"
     ]
    },
    {
     "data": {
      "text/plain": [
       "((685231,),\n",
       " array([1.44930846e-06, 1.44903384e-06, 1.44898334e-06, 1.45267681e-06,\n",
       "        1.44588914e-06, 1.44901936e-06, 1.45083534e-06, 1.45146289e-06,\n",
       "        1.43971158e-06, 1.42397465e-06]))"
      ]
     },
     "execution_count": 20,
     "metadata": {},
     "output_type": "execute_result"
    }
   ],
   "source": [
    "P, a = create_matrix(new_edges)\n",
    "power = power_method(P, a, 0.85, converge=False)\n",
    "power.shape, power[:10]"
   ]
  },
  {
   "cell_type": "code",
   "execution_count": 21,
   "id": "2f8a4bc5",
   "metadata": {
    "ExecuteTime": {
     "end_time": "2022-03-20T12:30:42.828245Z",
     "start_time": "2022-03-20T12:30:42.691277Z"
    }
   },
   "outputs": [
    {
     "name": "stdout",
     "output_type": "stream",
     "text": [
      "Position of the new node: 388178 out of 685231 nodes, somewhat in the middle.\n"
     ]
    }
   ],
   "source": [
    "print(f'Position of the new node: {np.where(np.argsort(power)[::-1] == np.argsort(power).max())[0][0]} out of {np.argsort(power).shape[0]} nodes, somewhat in the middle.')"
   ]
  },
  {
   "cell_type": "markdown",
   "id": "5ee16c96",
   "metadata": {},
   "source": [
    "## (5)"
   ]
  },
  {
   "cell_type": "code",
   "execution_count": 22,
   "id": "de8c29b4",
   "metadata": {
    "ExecuteTime": {
     "end_time": "2022-03-20T12:30:43.633171Z",
     "start_time": "2022-03-20T12:30:42.832230Z"
    }
   },
   "outputs": [
    {
     "name": "stdout",
     "output_type": "stream",
     "text": [
      "The new node is 685231\n"
     ]
    }
   ],
   "source": [
    "#Add extra node outlinks 500 below average ones and inlinks 10 most important ones\n",
    "print(f'The new node is {edges.max() + 1}')\n",
    "np.random.seed(123)\n",
    "\n",
    "outlinks = [] #add information for inlinks\n",
    "weakest = np.array_split(np.argsort(power)[::-1] ,2)[1]\n",
    "weakest_500 = np.random.choice(weakest, 10, replace=False)\n",
    "for i in range(0,10):\n",
    "    outlinks.append((edges.max() + 1, weakest_500[i]))\n",
    "    \n",
    "inlinks = [] #add information for inlinks\n",
    "for i in range(0,10):\n",
    "    inlinks.append((np.argsort(power)[::-1][i], edges.max() + 1,))\n",
    "\n",
    "new_edges = np.vstack([edges, outlinks, inlinks])"
   ]
  },
  {
   "cell_type": "code",
   "execution_count": 23,
   "id": "109be34a",
   "metadata": {
    "ExecuteTime": {
     "end_time": "2022-03-20T12:30:47.712688Z",
     "start_time": "2022-03-20T12:30:43.637155Z"
    }
   },
   "outputs": [
    {
     "name": "stdout",
     "output_type": "stream",
     "text": [
      "Number of Iterations: 37\n"
     ]
    },
    {
     "data": {
      "text/plain": [
       "((685231,),\n",
       " array([1.44929747e-06, 1.44902240e-06, 1.44897394e-06, 1.45266881e-06,\n",
       "        1.44588238e-06, 1.44901316e-06, 1.45079795e-06, 1.45145890e-06,\n",
       "        1.43963404e-06, 1.42398770e-06]))"
      ]
     },
     "execution_count": 23,
     "metadata": {},
     "output_type": "execute_result"
    }
   ],
   "source": [
    "P, a = create_matrix(new_edges)\n",
    "power = power_method(P, a, 0.85, converge=False)\n",
    "power.shape, power[:10]"
   ]
  },
  {
   "cell_type": "code",
   "execution_count": 24,
   "id": "344fad5e",
   "metadata": {
    "ExecuteTime": {
     "end_time": "2022-03-20T12:30:47.856666Z",
     "start_time": "2022-03-20T12:30:47.714692Z"
    }
   },
   "outputs": [
    {
     "name": "stdout",
     "output_type": "stream",
     "text": [
      "Position of the new node: 550143 out of 685231 nodes. The importance of the new node dropped significantly.\n"
     ]
    }
   ],
   "source": [
    "print(f'Position of the new node: {np.where(np.argsort(power)[::-1] == np.argsort(power).max())[0][0]} out of {np.argsort(power).shape[0]} nodes. The importance of the new node dropped significantly.')"
   ]
  },
  {
   "cell_type": "code",
   "execution_count": 25,
   "id": "1895c3b3",
   "metadata": {
    "ExecuteTime": {
     "end_time": "2022-03-20T12:30:47.936661Z",
     "start_time": "2022-03-20T12:30:47.860680Z"
    }
   },
   "outputs": [
    {
     "data": {
      "text/plain": [
       "(array([111551, 111634, 111619, 111684, 111769, 111770, 111771, 111616,\n",
       "        111772, 111773], dtype=int64),\n",
       " array([139321, 437047, 437074, 582062, 142166, 142220, 142221, 142222,\n",
       "        142223, 584999], dtype=int64))"
      ]
     },
     "execution_count": 25,
     "metadata": {},
     "output_type": "execute_result"
    }
   ],
   "source": [
    "np.argsort(power)[::-1][:10], ordered_power[::-1][:10] "
   ]
  },
  {
   "cell_type": "markdown",
   "id": "cb14c30d",
   "metadata": {},
   "source": [
    "The first 10 most important nodes have also changed -- this makes sense since the new node that is inlinked from important nodes now outlinks to the 10 most non-important ones, deeming them isnignificant."
   ]
  }
 ],
 "metadata": {
  "kernelspec": {
   "display_name": "Python 3 (ipykernel)",
   "language": "python",
   "name": "python3"
  },
  "language_info": {
   "codemirror_mode": {
    "name": "ipython",
    "version": 3
   },
   "file_extension": ".py",
   "mimetype": "text/x-python",
   "name": "python",
   "nbconvert_exporter": "python",
   "pygments_lexer": "ipython3",
   "version": "3.10.0"
  },
  "varInspector": {
   "cols": {
    "lenName": 16,
    "lenType": 16,
    "lenVar": 40
   },
   "kernels_config": {
    "python": {
     "delete_cmd_postfix": "",
     "delete_cmd_prefix": "del ",
     "library": "var_list.py",
     "varRefreshCmd": "print(var_dic_list())"
    },
    "r": {
     "delete_cmd_postfix": ") ",
     "delete_cmd_prefix": "rm(",
     "library": "var_list.r",
     "varRefreshCmd": "cat(var_dic_list()) "
    }
   },
   "types_to_exclude": [
    "module",
    "function",
    "builtin_function_or_method",
    "instance",
    "_Feature"
   ],
   "window_display": false
  }
 },
 "nbformat": 4,
 "nbformat_minor": 5
}
